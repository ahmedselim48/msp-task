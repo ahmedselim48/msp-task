{
 "cells": [
  {
   "cell_type": "markdown",
   "metadata": {},
   "source": [
    "Without using any string methods, try to print the following:\n",
    "\n",
    "( 123...n ) as string without spaces, whare n is a given input."
   ]
  },
  {
   "cell_type": "code",
   "execution_count": 1,
   "metadata": {},
   "outputs": [],
   "source": [
    "n = int(input('Enter The number.....'))\n",
    "for i in range(n):\n",
    "    print(i+1,end=\"\")"
   ]
  },
  {
   "cell_type": "markdown",
   "metadata": {},
   "source": [
    "Check if element exists in list in Python\n",
    "\n",
    "list = test_list = [1, 6, 3, 5, 3, 4]\n",
    "\n",
    "Input: 3  # Check if 3 exist or not.\n",
    "\n",
    "Output: True"
   ]
  },
  {
   "cell_type": "code",
   "execution_count": null,
   "metadata": {},
   "outputs": [],
   "source": [
    "test_list = [1,6,3,5,3,4]\n",
    "i = 3\n",
    "if i in test_list:\n",
    "    print('True')\n",
    "else:\n",
    "    print('False')"
   ]
  },
  {
   "cell_type": "markdown",
   "metadata": {},
   "source": [
    "Given a list, write a Python program to swap first and last element of the list.\n",
    "\n",
    "Examples: \n",
    "\n",
    "Input : [12, 35, 9, 56, 24]\n",
    "\n",
    "Output : [24, 35, 9, 56, 12]\n",
    "\n",
    "Input : [1, 2, 3]\n",
    "\n",
    "Output : [3, 2, 1]"
   ]
  },
  {
   "cell_type": "code",
   "execution_count": null,
   "metadata": {},
   "outputs": [],
   "source": [
    "list = []\n",
    "n = int(input(\"Enter the number of elements in list:\"))\n",
    "for x in range(0, n):\n",
    "    element = input()\n",
    "    list.append(element)\n",
    "temp = list[0]\n",
    "list[0] = list[n-1]\n",
    "list[n-1] = temp\n",
    "print(\"List after Swap :\", list)"
   ]
  },
  {
   "cell_type": "markdown",
   "metadata": {},
   "source": [
    "Read a list from user and print it after that rverse the list.\n",
    "\n",
    "Example:\n",
    "\n",
    "Input : list = [4, 5, 6, 7, 8, 9]\n",
    "\n",
    "Output : [9, 8, 7, 6, 5, 4]"
   ]
  },
  {
   "cell_type": "code",
   "execution_count": null,
   "metadata": {},
   "outputs": [],
   "source": [
    "list1 = []\n",
    "n = int(input(\"Enter the number of elements in list:\"))\n",
    "for x in range(0, n):\n",
    "    element = input()\n",
    "    list1.append(element)\n",
    "print(\"List after Revers\", list(reversed(list1)))"
   ]
  },
  {
   "cell_type": "markdown",
   "metadata": {},
   "source": [
    "We are given a string and we need to reverse words of a given string\n",
    "\n",
    "Examples:\n",
    "\n",
    "Input : str =\" geeks quiz practice code\"\n",
    "\n",
    "Output : str = code practice quiz geeks "
   ]
  },
  {
   "cell_type": "code",
   "execution_count": null,
   "metadata": {},
   "outputs": [],
   "source": [
    "def printRev(string):\n",
    "\tlis = list(string.split())\n",
    "\tlis.reverse()\n",
    "\tprint(*lis)\n",
    "    \n",
    "strr = \"geeks quiz practice code\"\n",
    "printRev(strr)\n"
   ]
  },
  {
   "cell_type": "markdown",
   "metadata": {},
   "source": [
    "Given a string, the task is to check if every vowel is present or not. We consider a vowel to be present if it is present in upper case or lower case. i.e. ‘a’, ‘e’, ‘i’.’o’, ‘u’ or ‘A’, ‘E’, ‘I’, ‘O’, ‘U’ . \n",
    "\n",
    "Examples : \n",
    "\n",
    "Input : geeksforgeeks\n",
    "\n",
    "Output : Not Accepted\n",
    "\n",
    "    All vowels except 'a','i','u' are not present\n",
    "\n",
    "\n",
    "Input : ABeeIghiObhkUul\n",
    "\n",
    "Output : Accepted\n",
    "\n",
    "    All vowels are present"
   ]
  },
  {
   "cell_type": "code",
   "execution_count": null,
   "metadata": {},
   "outputs": [],
   "source": [
    "def check(string):\n",
    "    string = string.lower()\n",
    "    vowels = set(\"aeiou\")\n",
    "    s = set({})\n",
    "    for char in string:\n",
    "        if char in vowels:\n",
    "            s.add(char)\n",
    "        else:\n",
    "            pass\n",
    "    if len(s) == len(vowels):\n",
    "        print(\"Accepted\")\n",
    "    else:\n",
    "        print(\"Not Accepted\")\n",
    "\n",
    "string = \"ABeeIghiObhkUul\"\n",
    "check(string)\n"
   ]
  },
  {
   "cell_type": "markdown",
   "metadata": {},
   "source": [
    "Factorial of a non-negative integer, is multiplication of all integers smaller than or equal to n. For example factorial of 6 is 6*5*4*3*2*1 which is 720.\n",
    "\n",
    "We are given n to calculate its factorial."
   ]
  },
  {
   "cell_type": "code",
   "execution_count": null,
   "metadata": {},
   "outputs": [],
   "source": [
    "import  math\n",
    "n=  int(input(\"Enter the  number  \"))\n",
    "print(math.factoria)"
   ]
  },
  {
   "cell_type": "markdown",
   "metadata": {},
   "source": [
    "Given a character, we need to print its ASCII value\n",
    "\n",
    "Examples :\n",
    "\n",
    "Input : a \n",
    "\n",
    "Output : 97\n",
    "\n",
    "Input : D\n",
    "\n",
    "Output : 68\n",
    "\n",
    "    NOTE: search about the ord() method to can solve these problem."
   ]
  },
  {
   "cell_type": "code",
   "execution_count": null,
   "metadata": {},
   "outputs": [],
   "source": [
    "c =  'a'\n",
    "print(c , \" \" , ord(c))"
   ]
  },
  {
   "cell_type": "markdown",
   "metadata": {},
   "source": [
    "Given a positive integer N. The task is to find 12 + 22 + 32 + ….. + N2.\n",
    "\n",
    "Examples:\n",
    "\n",
    "Input : N = 4\n",
    "\n",
    "Output : 30"
   ]
  },
  {
   "cell_type": "code",
   "execution_count": null,
   "metadata": {},
   "outputs": [],
   "source": [
    "def sumOfSquer(n):\n",
    "    if n < 0:\n",
    "        return\n",
    "    sum  = n * (n + 1) * (2 * n + 1)/6\n",
    "    return int(sum)\n",
    "n =  int(input(\"Enter n : \"))\n",
    "sum = sumOfSquer(n)\n",
    "print(sum)"
   ]
  },
  {
   "cell_type": "markdown",
   "metadata": {},
   "source": [
    "Given the participants' score sheet for your University Sports Day, you are required to find the runner-up score. You are given n scores. Store them in a list and find the score of the runner-up.\n",
    "\n",
    "Example:\n",
    "\n",
    "Input:\n",
    "\n",
    "    6\n",
    "    2 4 5 6 1 6\n",
    "\n",
    "Output:\n",
    "\n",
    "    5"
   ]
  },
  {
   "cell_type": "code",
   "execution_count": null,
   "metadata": {},
   "outputs": [],
   "source": []
  }
 ],
 "metadata": {
  "kernelspec": {
   "display_name": "Python 3.10.0 64-bit",
   "language": "python",
   "name": "python3"
  },
  "language_info": {
   "codemirror_mode": {
    "name": "ipython",
    "version": 3
   },
   "file_extension": ".py",
   "mimetype": "text/x-python",
   "name": "python",
   "nbconvert_exporter": "python",
   "pygments_lexer": "ipython3",
   "version": "3.10.0"
  },
  "orig_nbformat": 4,
  "vscode": {
   "interpreter": {
    "hash": "7ea32d037a79829a5b5b10225c146bfb0684fc6d379a6fae52e9e7c1a177fb9c"
   }
  }
 },
 "nbformat": 4,
 "nbformat_minor": 2
}
