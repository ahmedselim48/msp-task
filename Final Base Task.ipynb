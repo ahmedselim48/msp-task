{
 "cells": [
  {
   "cell_type": "code",
   "execution_count": 1,
   "metadata": {},
   "outputs": [],
   "source": [
    "class Person:\n",
    "  def __init__(self, firstname, lastname, numberphone , Age):\n",
    "      self.firstname = firstname\n",
    "      self.lastname = lastname\n",
    "      self.numberphone = numberphone\n",
    "      self.Age = Age\n",
    "\n",
    "  def myfunc(self):\n",
    "    print(\"The first Name : \", self.firstname)\n",
    "    print('The lastname :  ', self.lastname)\n",
    "    print('The numberphone :  ', self.numberphone)\n",
    "    print('The Age  : ', self.Age)"
   ]
  },
  {
   "cell_type": "code",
   "execution_count": 2,
   "metadata": {},
   "outputs": [],
   "source": [
    "class Student(Person):\n",
    "    def __init__(self, Department, ID_Code, Gardes, Status, level):\n",
    "        self.Department = Department\n",
    "        self.ID_Code = ID_Code\n",
    "        self.Gardes = Gardes\n",
    "        self.Status = Status\n",
    "        self.level = level\n",
    "    def Show_data(self):\n",
    "      print('The Department ', self.Department)\n",
    "      print('The ID_Code ', self.ID_Code)\n",
    "      print('The Gardes ', self.Gardes)\n",
    "      print('The Status ', self.Status)\n",
    "      print('The level ', self.level)\n",
    "\n",
    "  #    def add_student(self, Student):\n",
    "   #       self.students.append(Student)"
   ]
  },
  {
   "cell_type": "code",
   "execution_count": 3,
   "metadata": {},
   "outputs": [],
   "source": [
    "class Doctor(Person):\n",
    "    def __init__(self , dep , numcour , ID_doc , Email):\n",
    "        self.dep = dep\n",
    "        self.numcour =numcour\n",
    "        self.ID_doc  = ID_doc\n",
    "        self.Email =Email\n",
    "    def shoW_doc(self):\n",
    "        print(\"The Doctor Department  : \" ,self.dep)\n",
    "        print(\"The Doctor numcour : \" ,self.numcour)\n",
    "        print(\"The Doctor ID : \" ,self.ID_doc)\n",
    "        print(\"The Doctor Email : \" ,self.Email)\n"
   ]
  },
  {
   "cell_type": "code",
   "execution_count": 4,
   "metadata": {},
   "outputs": [
    {
     "name": "stdout",
     "output_type": "stream",
     "text": [
      "The first Name :  Ahmed\n",
      "The lastname :   Selim \n",
      "The numberphone :   01286734958\n",
      "The Age  :  20\n",
      "The Department  CS\n",
      "The ID_Code  24399595\n",
      "The Gardes  80\n",
      "The Status  pass\n",
      "The level  3\n"
     ]
    }
   ],
   "source": [
    "pe = Person('Ahmed'  , 'Selim ' , '01286734958',20)\n",
    "pe.myfunc()\n",
    "st = Student('CS','24399595',80,'pass',3)\n",
    "st.Show_data()"
   ]
  },
  {
   "cell_type": "code",
   "execution_count": 5,
   "metadata": {},
   "outputs": [
    {
     "name": "stdout",
     "output_type": "stream",
     "text": [
      "The first Name :  Ali\n",
      "The lastname :   Mohamed \n",
      "The numberphone :   01286734958\n",
      "The Age  :  55\n",
      "The Doctor Department  :  SE\n",
      "The Doctor numcour :  3\n",
      "The Doctor ID :  8031\n",
      "The Doctor Email :  Ali40@gmail.com\n"
     ]
    }
   ],
   "source": [
    "ped = Person('Ali'  , 'Mohamed ' , '01286734958',55)\n",
    "ped.myfunc()\n",
    "do = Doctor(\"SE\" , \"3\" , \"8031\",\"Ali40@gmail.com\" )\n",
    "do.shoW_doc()\n"
   ]
  },
  {
   "cell_type": "code",
   "execution_count": 4,
   "metadata": {},
   "outputs": [
    {
     "name": "stdout",
     "output_type": "stream",
     "text": [
      "5\n"
     ]
    }
   ],
   "source": []
  }
 ],
 "metadata": {
  "kernelspec": {
   "display_name": "Python 3.10.0 64-bit",
   "language": "python",
   "name": "python3"
  },
  "language_info": {
   "codemirror_mode": {
    "name": "ipython",
    "version": 3
   },
   "file_extension": ".py",
   "mimetype": "text/x-python",
   "name": "python",
   "nbconvert_exporter": "python",
   "pygments_lexer": "ipython3",
   "version": "3.10.0"
  },
  "orig_nbformat": 4,
  "vscode": {
   "interpreter": {
    "hash": "7ea32d037a79829a5b5b10225c146bfb0684fc6d379a6fae52e9e7c1a177fb9c"
   }
  }
 },
 "nbformat": 4,
 "nbformat_minor": 2
}
